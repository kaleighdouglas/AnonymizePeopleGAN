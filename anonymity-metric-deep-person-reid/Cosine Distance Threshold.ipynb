{
 "cells": [
  {
   "cell_type": "code",
   "execution_count": 128,
   "id": "surgical-dallas",
   "metadata": {},
   "outputs": [],
   "source": [
    "import pickle\n",
    "import pandas as pd\n",
    "import sklearn\n",
    "from sklearn.metrics import f1_score"
   ]
  },
  {
   "cell_type": "code",
   "execution_count": 190,
   "id": "hindu-mission",
   "metadata": {},
   "outputs": [],
   "source": [
    "# [((target, image), dist), ..., ()]\n",
    "filename = 'torchreid_cosine_distance__saved_features_torchreid_datasets_1200_w40_solid_cropped_train__datasets_1200_w40_solid_images_select_cropped.pkl'\n",
    "# filename = 'torchreid_cosine_distance__saved_features_torchreid_datasets_1200_w40_solid_cropped_train__saved_features_torchreid__datasets_1200_w40_solid_images_train_overfit.pkl'\n",
    "with open(filename, 'rb') as f:\n",
    "    distances = pickle.load(f)"
   ]
  },
  {
   "cell_type": "code",
   "execution_count": 191,
   "id": "editorial-alpha",
   "metadata": {},
   "outputs": [
    {
     "data": {
      "text/plain": [
       "130800"
      ]
     },
     "execution_count": 191,
     "metadata": {},
     "output_type": "execute_result"
    }
   ],
   "source": [
    "len(distances)"
   ]
  },
  {
   "cell_type": "code",
   "execution_count": 192,
   "id": "twenty-witch",
   "metadata": {},
   "outputs": [
    {
     "data": {
      "text/plain": [
       "(('frankfurt_000001_057954_0', 'frankfurt_000001_057954_0'), 0.0885)"
      ]
     },
     "execution_count": 192,
     "metadata": {},
     "output_type": "execute_result"
    }
   ],
   "source": [
    "distances[0]"
   ]
  },
  {
   "cell_type": "code",
   "execution_count": 193,
   "id": "looking-calculator",
   "metadata": {},
   "outputs": [
    {
     "data": {
      "text/plain": [
       "(('erfurt_000050_000019_4', 'jena_000019_000019_0'), 0.6987)"
      ]
     },
     "execution_count": 193,
     "metadata": {},
     "output_type": "execute_result"
    }
   ],
   "source": [
    "distances[-1]"
   ]
  },
  {
   "cell_type": "markdown",
   "id": "suburban-martial",
   "metadata": {},
   "source": [
    "### MATCHES"
   ]
  },
  {
   "cell_type": "code",
   "execution_count": 194,
   "id": "beneficial-despite",
   "metadata": {},
   "outputs": [],
   "source": [
    "# [(target==image, dist), ..., ()]\n",
    "\n",
    "matches = [(tup[0][0], tup[1]) for tup in distances if tup[0][0] == tup[0][1]]"
   ]
  },
  {
   "cell_type": "code",
   "execution_count": 195,
   "id": "intimate-remainder",
   "metadata": {},
   "outputs": [
    {
     "data": {
      "text/plain": [
       "109"
      ]
     },
     "execution_count": 195,
     "metadata": {},
     "output_type": "execute_result"
    }
   ],
   "source": [
    "len(matches)"
   ]
  },
  {
   "cell_type": "code",
   "execution_count": 196,
   "id": "excess-vertical",
   "metadata": {},
   "outputs": [
    {
     "name": "stdout",
     "output_type": "stream",
     "text": [
      "('frankfurt_000001_057954_0', 0.0885)\n",
      "('bremen_000100_000019_9', 0.3843)\n"
     ]
    }
   ],
   "source": [
    "print(matches[0])\n",
    "print(matches[-1])"
   ]
  },
  {
   "cell_type": "markdown",
   "id": "strategic-african",
   "metadata": {},
   "source": [
    "### IMAGES"
   ]
  },
  {
   "cell_type": "code",
   "execution_count": 197,
   "id": "standard-drinking",
   "metadata": {},
   "outputs": [
    {
     "name": "stdout",
     "output_type": "stream",
     "text": [
      "frankfurt_000001_057954_0\n"
     ]
    }
   ],
   "source": [
    "images = [x[0] for x in matches]\n",
    "print(images[0])"
   ]
  },
  {
   "cell_type": "markdown",
   "id": "anonymous-stations",
   "metadata": {},
   "source": [
    "### MATCH RANK"
   ]
  },
  {
   "cell_type": "code",
   "execution_count": 198,
   "id": "sought-serum",
   "metadata": {},
   "outputs": [],
   "source": [
    "distances_dict = {image:[] for image in images}\n",
    "for pair in distances:\n",
    "    distances_dict[pair[0][0]].append((pair[0][1], pair[1]))\n",
    "    \n",
    "# print(image_distances)"
   ]
  },
  {
   "cell_type": "code",
   "execution_count": 199,
   "id": "traditional-warrant",
   "metadata": {},
   "outputs": [],
   "source": [
    "x = distances_dict['frankfurt_000001_057954_0']\n",
    "# x"
   ]
  },
  {
   "cell_type": "code",
   "execution_count": 200,
   "id": "varied-framing",
   "metadata": {},
   "outputs": [],
   "source": [
    "# k = sorted(x, key=lambda y: y[1], reverse=True)\n",
    "# k"
   ]
  },
  {
   "cell_type": "code",
   "execution_count": 201,
   "id": "abroad-honor",
   "metadata": {},
   "outputs": [],
   "source": [
    "match_ranks = {}\n",
    "for target in images:\n",
    "    target_distances = sorted(distances_dict[target], key=lambda x: x[1], reverse=False) # confirm list is sorted (ascending)\n",
    "    images_ranked = [img[0] for img in target_distances] # get list of image names in ascending order\n",
    "    match_ranks[target] = images_ranked.index(target) # get rank of target-image match"
   ]
  },
  {
   "cell_type": "code",
   "execution_count": 202,
   "id": "moral-habitat",
   "metadata": {},
   "outputs": [
    {
     "data": {
      "text/plain": [
       "{'frankfurt_000001_057954_0': 0,\n",
       " 'frankfurt_000001_010600_1': 0,\n",
       " 'aachen_000111_000019_19': 0,\n",
       " 'jena_000000_000019_1': 0,\n",
       " 'jena_000027_000019_7': 0,\n",
       " 'bremen_000257_000019_3': 0,\n",
       " 'bremen_000208_000019_4': 0,\n",
       " 'aachen_000019_000019_14': 0,\n",
       " 'frankfurt_000001_007857_2': 0,\n",
       " 'bremen_000261_000019_1': 0,\n",
       " 'frankfurt_000000_009969_5': 0,\n",
       " 'frankfurt_000001_055387_5': 0,\n",
       " 'hanover_000000_048379_5': 0,\n",
       " 'hamburg_000000_096624_6': 0,\n",
       " 'hamburg_000000_053563_35': 0,\n",
       " 'dusseldorf_000078_000019_2': 0,\n",
       " 'hanover_000000_028202_3': 0,\n",
       " 'bremen_000287_000019_7': 0,\n",
       " 'hanover_000000_013814_10': 0,\n",
       " 'frankfurt_000001_028854_7': 0,\n",
       " 'cologne_000129_000019_8': 0,\n",
       " 'hamburg_000000_022524_3': 0,\n",
       " 'bremen_000099_000019_9': 0,\n",
       " 'hanover_000000_044344_1': 0,\n",
       " 'dusseldorf_000045_000019_1': 0,\n",
       " 'frankfurt_000000_022254_0': 0,\n",
       " 'hanover_000000_013205_2': 0,\n",
       " 'aachen_000048_000019_15': 0,\n",
       " 'frankfurt_000001_055306_7': 0,\n",
       " 'frankfurt_000001_007857_1': 0,\n",
       " 'frankfurt_000000_011461_1': 0,\n",
       " 'aachen_000100_000019_10': 0,\n",
       " 'hamburg_000000_039546_41': 0,\n",
       " 'hamburg_000000_079657_0': 0,\n",
       " 'aachen_000138_000019_4': 0,\n",
       " 'frankfurt_000001_025512_6': 0,\n",
       " 'frankfurt_000001_046272_1': 0,\n",
       " 'hanover_000000_028202_2': 0,\n",
       " 'cologne_000126_000019_8': 0,\n",
       " 'erfurt_000059_000019_1': 0,\n",
       " 'frankfurt_000001_028335_1': 0,\n",
       " 'bremen_000082_000019_2': 0,\n",
       " 'aachen_000097_000019_5': 0,\n",
       " 'frankfurt_000001_055306_8': 0,\n",
       " 'cologne_000139_000019_4': 0,\n",
       " 'frankfurt_000001_046272_2': 0,\n",
       " 'bremen_000140_000019_4': 0,\n",
       " 'aachen_000020_000019_7': 0,\n",
       " 'frankfurt_000001_011162_19': 0,\n",
       " 'bremen_000220_000019_5': 0,\n",
       " 'frankfurt_000001_066092_0': 0,\n",
       " 'erfurt_000050_000019_4': 5,\n",
       " 'frankfurt_000001_073088_1': 0,\n",
       " 'hanover_000000_052512_0': 0,\n",
       " 'hanover_000000_031144_2': 0,\n",
       " 'frankfurt_000001_028335_3': 0,\n",
       " 'aachen_000019_000019_27': 0,\n",
       " 'cologne_000137_000019_2': 0,\n",
       " 'frankfurt_000001_034047_6': 0,\n",
       " 'aachen_000048_000019_3': 0,\n",
       " 'hamburg_000000_037279_19': 0,\n",
       " 'hanover_000000_027650_19': 0,\n",
       " 'darmstadt_000055_000019_7': 0,\n",
       " 'cologne_000138_000019_0': 0,\n",
       " 'cologne_000002_000019_1': 0,\n",
       " 'aachen_000111_000019_17': 1,\n",
       " 'frankfurt_000001_034047_17': 0,\n",
       " 'bremen_000063_000019_0': 0,\n",
       " 'bremen_000201_000019_9': 0,\n",
       " 'darmstadt_000025_000019_0': 0,\n",
       " 'cologne_000152_000019_0': 0,\n",
       " 'frankfurt_000001_049770_14': 0,\n",
       " 'cologne_000129_000019_9': 0,\n",
       " 'aachen_000033_000019_4': 0,\n",
       " 'bremen_000084_000019_2': 0,\n",
       " 'erfurt_000043_000019_3': 0,\n",
       " 'hamburg_000000_105724_19': 1,\n",
       " 'dusseldorf_000172_000019_4': 1,\n",
       " 'erfurt_000091_000019_0': 6,\n",
       " 'frankfurt_000001_034047_4': 0,\n",
       " 'hanover_000000_023239_6': 4,\n",
       " 'frankfurt_000001_048654_2': 0,\n",
       " 'jena_000021_000019_0': 20,\n",
       " 'hanover_000000_026804_4': 0,\n",
       " 'hamburg_000000_053776_8': 3,\n",
       " 'hanover_000000_029455_2': 0,\n",
       " 'aachen_000019_000019_26': 0,\n",
       " 'hanover_000000_038855_0': 4,\n",
       " 'aachen_000042_000019_0': 5,\n",
       " 'aachen_000017_000019_13': 1,\n",
       " 'frankfurt_000001_038844_3': 1,\n",
       " 'hamburg_000000_096624_5': 5,\n",
       " 'aachen_000161_000019_8': 5,\n",
       " 'cologne_000105_000019_4': 4,\n",
       " 'bremen_000201_000019_8': 14,\n",
       " 'hanover_000000_040294_9': 3,\n",
       " 'erfurt_000011_000019_2': 2,\n",
       " 'bochum_000000_003674_1': 1,\n",
       " 'erfurt_000055_000019_8': 3,\n",
       " 'bremen_000218_000019_3': 7,\n",
       " 'hanover_000000_030889_3': 4,\n",
       " 'cologne_000138_000019_1': 70,\n",
       " 'hanover_000000_009420_7': 0,\n",
       " 'erfurt_000050_000019_2': 25,\n",
       " 'erfurt_000083_000019_3': 26,\n",
       " 'aachen_000071_000019_16': 57,\n",
       " 'aachen_000017_000019_12': 8,\n",
       " 'aachen_000046_000019_1': 73,\n",
       " 'bremen_000100_000019_9': 71}"
      ]
     },
     "execution_count": 202,
     "metadata": {},
     "output_type": "execute_result"
    }
   ],
   "source": [
    "match_ranks"
   ]
  },
  {
   "cell_type": "code",
   "execution_count": 203,
   "id": "experimental-sword",
   "metadata": {},
   "outputs": [
    {
     "data": {
      "text/html": [
       "<div>\n",
       "<style scoped>\n",
       "    .dataframe tbody tr th:only-of-type {\n",
       "        vertical-align: middle;\n",
       "    }\n",
       "\n",
       "    .dataframe tbody tr th {\n",
       "        vertical-align: top;\n",
       "    }\n",
       "\n",
       "    .dataframe thead th {\n",
       "        text-align: right;\n",
       "    }\n",
       "</style>\n",
       "<table border=\"1\" class=\"dataframe\">\n",
       "  <thead>\n",
       "    <tr style=\"text-align: right;\">\n",
       "      <th></th>\n",
       "      <th>rank</th>\n",
       "    </tr>\n",
       "  </thead>\n",
       "  <tbody>\n",
       "    <tr>\n",
       "      <th>frankfurt_000001_057954_0</th>\n",
       "      <td>0</td>\n",
       "    </tr>\n",
       "    <tr>\n",
       "      <th>frankfurt_000001_010600_1</th>\n",
       "      <td>0</td>\n",
       "    </tr>\n",
       "    <tr>\n",
       "      <th>aachen_000111_000019_19</th>\n",
       "      <td>0</td>\n",
       "    </tr>\n",
       "    <tr>\n",
       "      <th>jena_000000_000019_1</th>\n",
       "      <td>0</td>\n",
       "    </tr>\n",
       "    <tr>\n",
       "      <th>jena_000027_000019_7</th>\n",
       "      <td>0</td>\n",
       "    </tr>\n",
       "    <tr>\n",
       "      <th>...</th>\n",
       "      <td>...</td>\n",
       "    </tr>\n",
       "    <tr>\n",
       "      <th>erfurt_000083_000019_3</th>\n",
       "      <td>26</td>\n",
       "    </tr>\n",
       "    <tr>\n",
       "      <th>aachen_000071_000019_16</th>\n",
       "      <td>57</td>\n",
       "    </tr>\n",
       "    <tr>\n",
       "      <th>aachen_000017_000019_12</th>\n",
       "      <td>8</td>\n",
       "    </tr>\n",
       "    <tr>\n",
       "      <th>aachen_000046_000019_1</th>\n",
       "      <td>73</td>\n",
       "    </tr>\n",
       "    <tr>\n",
       "      <th>bremen_000100_000019_9</th>\n",
       "      <td>71</td>\n",
       "    </tr>\n",
       "  </tbody>\n",
       "</table>\n",
       "<p>109 rows × 1 columns</p>\n",
       "</div>"
      ],
      "text/plain": [
       "                           rank\n",
       "frankfurt_000001_057954_0     0\n",
       "frankfurt_000001_010600_1     0\n",
       "aachen_000111_000019_19       0\n",
       "jena_000000_000019_1          0\n",
       "jena_000027_000019_7          0\n",
       "...                         ...\n",
       "erfurt_000083_000019_3       26\n",
       "aachen_000071_000019_16      57\n",
       "aachen_000017_000019_12       8\n",
       "aachen_000046_000019_1       73\n",
       "bremen_000100_000019_9       71\n",
       "\n",
       "[109 rows x 1 columns]"
      ]
     },
     "execution_count": 203,
     "metadata": {},
     "output_type": "execute_result"
    }
   ],
   "source": [
    "match_ranks_df = pd.DataFrame.from_dict(match_ranks, orient='index', columns=['rank'])\n",
    "match_ranks_df"
   ]
  },
  {
   "cell_type": "code",
   "execution_count": 204,
   "id": "injured-corpus",
   "metadata": {},
   "outputs": [
    {
     "name": "stdout",
     "output_type": "stream",
     "text": [
      "top 0 count:  80\n",
      "top 0 percent:  0.7339\n",
      "\n",
      "top 5 count:  94\n",
      "top 5 percent:  0.8624\n",
      "\n",
      "top 120 count:  109\n",
      "top 120 percent:  1.0\n"
     ]
    }
   ],
   "source": [
    "match_ranks_df\n",
    "#top 0\n",
    "top_0_count = len(match_ranks_df[match_ranks_df['rank'] == 0])\n",
    "print('top 0 count: ', top_0_count)\n",
    "print('top 0 percent: ', round(top_0_count / len(images), 4))\n",
    "print()\n",
    "#top 5\n",
    "top_5_count = len(match_ranks_df[match_ranks_df['rank'] < 5])\n",
    "print('top 5 count: ', top_5_count)\n",
    "print('top 5 percent: ', round(top_5_count / len(images), 4))\n",
    "print()\n",
    "#top 120\n",
    "top_120_count = len(match_ranks_df[match_ranks_df['rank'] < 120])\n",
    "print('top 120 count: ', top_120_count)\n",
    "print('top 120 percent: ', round(top_120_count / len(images), 4))"
   ]
  },
  {
   "cell_type": "code",
   "execution_count": 205,
   "id": "ancient-questionnaire",
   "metadata": {},
   "outputs": [
    {
     "data": {
      "text/plain": [
       "[0,\n",
       " 0,\n",
       " 0,\n",
       " 0,\n",
       " 0,\n",
       " 0,\n",
       " 0,\n",
       " 0,\n",
       " 0,\n",
       " 0,\n",
       " 0,\n",
       " 0,\n",
       " 0,\n",
       " 0,\n",
       " 0,\n",
       " 0,\n",
       " 0,\n",
       " 0,\n",
       " 0,\n",
       " 0,\n",
       " 0,\n",
       " 0,\n",
       " 0,\n",
       " 0,\n",
       " 0,\n",
       " 0,\n",
       " 0,\n",
       " 0,\n",
       " 0,\n",
       " 0,\n",
       " 0,\n",
       " 0,\n",
       " 0,\n",
       " 0,\n",
       " 0,\n",
       " 0,\n",
       " 0,\n",
       " 0,\n",
       " 0,\n",
       " 0,\n",
       " 0,\n",
       " 0,\n",
       " 0,\n",
       " 0,\n",
       " 0,\n",
       " 0,\n",
       " 0,\n",
       " 0,\n",
       " 0,\n",
       " 0,\n",
       " 0,\n",
       " 5,\n",
       " 0,\n",
       " 0,\n",
       " 0,\n",
       " 0,\n",
       " 0,\n",
       " 0,\n",
       " 0,\n",
       " 0,\n",
       " 0,\n",
       " 0,\n",
       " 0,\n",
       " 0,\n",
       " 0,\n",
       " 1,\n",
       " 0,\n",
       " 0,\n",
       " 0,\n",
       " 0,\n",
       " 0,\n",
       " 0,\n",
       " 0,\n",
       " 0,\n",
       " 0,\n",
       " 0,\n",
       " 1,\n",
       " 1,\n",
       " 6,\n",
       " 0,\n",
       " 4,\n",
       " 0,\n",
       " 20,\n",
       " 0,\n",
       " 3,\n",
       " 0,\n",
       " 0,\n",
       " 4,\n",
       " 5,\n",
       " 1,\n",
       " 1,\n",
       " 5,\n",
       " 5,\n",
       " 4,\n",
       " 14,\n",
       " 3,\n",
       " 2,\n",
       " 1,\n",
       " 3,\n",
       " 7,\n",
       " 4,\n",
       " 70,\n",
       " 0,\n",
       " 25,\n",
       " 26,\n",
       " 57,\n",
       " 8,\n",
       " 73,\n",
       " 71]"
      ]
     },
     "execution_count": 205,
     "metadata": {},
     "output_type": "execute_result"
    }
   ],
   "source": [
    "ranks = list(match_ranks.values())\n",
    "ranks\n"
   ]
  },
  {
   "cell_type": "code",
   "execution_count": 206,
   "id": "offensive-couple",
   "metadata": {},
   "outputs": [
    {
     "data": {
      "image/png": "[encoded data removed]",
      "text/plain": [
       "<Figure size 1440x288 with 1 Axes>"
      ]
     },
     "metadata": {
      "needs_background": "light"
     },
     "output_type": "display_data"
    }
   ],
   "source": [
    "import numpy as np\n",
    "import matplotlib.pyplot as plt\n",
    "plt.rcParams[\"figure.figsize\"] = (20,4)\n",
    "\n",
    "num_bins = 120 #240 #1200\n",
    "\n",
    "fig, ax = plt.subplots()\n",
    "\n",
    "# the histogram of the data\n",
    "n, bins, patches = ax.hist(ranks, num_bins, density=False)\n",
    "\n",
    "# ax.plot(bins, y, '--')\n",
    "ax.set_xlabel('Ranks')\n",
    "ax.set_ylabel('Counts')\n",
    "ax.set_title('Ranks of Generated-Original Image Matches')\n",
    "# .ylim(20)\n",
    "\n",
    "# Tweak spacing to prevent clipping of ylabel\n",
    "# fig.tight_layout()\n",
    "plt.show()"
   ]
  },
  {
   "cell_type": "markdown",
   "id": "circular-wisdom",
   "metadata": {},
   "source": [
    "### MATCHING DISTANCES"
   ]
  },
  {
   "cell_type": "code",
   "execution_count": 207,
   "id": "worst-clark",
   "metadata": {},
   "outputs": [],
   "source": [
    "match_distances = [tup[1] for tup in distances if tup[0][0] == tup[0][1]]"
   ]
  },
  {
   "cell_type": "code",
   "execution_count": 208,
   "id": "concrete-identifier",
   "metadata": {},
   "outputs": [
    {
     "name": "stdout",
     "output_type": "stream",
     "text": [
      "0.0885\n",
      "0.3843\n"
     ]
    }
   ],
   "source": [
    "print(match_distances[0])\n",
    "print(match_distances[-1])"
   ]
  },
  {
   "cell_type": "code",
   "execution_count": 209,
   "id": "sound-mounting",
   "metadata": {},
   "outputs": [],
   "source": [
    "import pandas as pd"
   ]
  },
  {
   "cell_type": "code",
   "execution_count": 210,
   "id": "absent-duplicate",
   "metadata": {},
   "outputs": [],
   "source": [
    "md = pd.DataFrame(match_distances)"
   ]
  },
  {
   "cell_type": "code",
   "execution_count": 211,
   "id": "happy-comment",
   "metadata": {},
   "outputs": [
    {
     "data": {
      "text/html": [
       "<div>\n",
       "<style scoped>\n",
       "    .dataframe tbody tr th:only-of-type {\n",
       "        vertical-align: middle;\n",
       "    }\n",
       "\n",
       "    .dataframe tbody tr th {\n",
       "        vertical-align: top;\n",
       "    }\n",
       "\n",
       "    .dataframe thead th {\n",
       "        text-align: right;\n",
       "    }\n",
       "</style>\n",
       "<table border=\"1\" class=\"dataframe\">\n",
       "  <thead>\n",
       "    <tr style=\"text-align: right;\">\n",
       "      <th></th>\n",
       "      <th>0</th>\n",
       "    </tr>\n",
       "  </thead>\n",
       "  <tbody>\n",
       "    <tr>\n",
       "      <th>count</th>\n",
       "      <td>109.000000</td>\n",
       "    </tr>\n",
       "    <tr>\n",
       "      <th>mean</th>\n",
       "      <td>0.217014</td>\n",
       "    </tr>\n",
       "    <tr>\n",
       "      <th>std</th>\n",
       "      <td>0.069916</td>\n",
       "    </tr>\n",
       "    <tr>\n",
       "      <th>min</th>\n",
       "      <td>0.088500</td>\n",
       "    </tr>\n",
       "    <tr>\n",
       "      <th>25%</th>\n",
       "      <td>0.166100</td>\n",
       "    </tr>\n",
       "    <tr>\n",
       "      <th>50%</th>\n",
       "      <td>0.206800</td>\n",
       "    </tr>\n",
       "    <tr>\n",
       "      <th>75%</th>\n",
       "      <td>0.254500</td>\n",
       "    </tr>\n",
       "    <tr>\n",
       "      <th>max</th>\n",
       "      <td>0.384300</td>\n",
       "    </tr>\n",
       "  </tbody>\n",
       "</table>\n",
       "</div>"
      ],
      "text/plain": [
       "                0\n",
       "count  109.000000\n",
       "mean     0.217014\n",
       "std      0.069916\n",
       "min      0.088500\n",
       "25%      0.166100\n",
       "50%      0.206800\n",
       "75%      0.254500\n",
       "max      0.384300"
      ]
     },
     "execution_count": 211,
     "metadata": {},
     "output_type": "execute_result"
    }
   ],
   "source": [
    "md.describe()"
   ]
  },
  {
   "cell_type": "markdown",
   "id": "accredited-threshold",
   "metadata": {},
   "source": [
    "### RANK 0 F1"
   ]
  },
  {
   "cell_type": "code",
   "execution_count": 212,
   "id": "compact-robinson",
   "metadata": {},
   "outputs": [
    {
     "data": {
      "text/plain": [
       "0.3843"
      ]
     },
     "execution_count": 212,
     "metadata": {},
     "output_type": "execute_result"
    }
   ],
   "source": [
    "max_match_dist = md.max().item()\n",
    "max_match_dist"
   ]
  },
  {
   "cell_type": "code",
   "execution_count": 213,
   "id": "mexican-mountain",
   "metadata": {},
   "outputs": [
    {
     "name": "stdout",
     "output_type": "stream",
     "text": [
      "Rank 0 - F1 Score: 0.8466\n"
     ]
    }
   ],
   "source": [
    "ranks_binary = [True if r==0 else False for r in ranks]\n",
    "# ranks_binary\n",
    "\n",
    "y_true = [True for r in ranks]\n",
    "# len(y_true)\n",
    "\n",
    "f1 = sklearn.metrics.f1_score(y_true, ranks_binary, average='binary')\n",
    "print('Rank 0 - F1 Score:', round(f1, 4))\n"
   ]
  },
  {
   "cell_type": "markdown",
   "id": "collected-allah",
   "metadata": {},
   "source": [
    "### THRESHOLD"
   ]
  },
  {
   "cell_type": "code",
   "execution_count": 214,
   "id": "resident-probe",
   "metadata": {},
   "outputs": [
    {
     "data": {
      "text/plain": [
       "0.3843"
      ]
     },
     "execution_count": 214,
     "metadata": {},
     "output_type": "execute_result"
    }
   ],
   "source": [
    "max_match_dist = md.max().item()\n",
    "max_match_dist"
   ]
  },
  {
   "cell_type": "code",
   "execution_count": 215,
   "id": "illegal-diameter",
   "metadata": {},
   "outputs": [],
   "source": [
    "dist_df = pd.DataFrame(distances)\n",
    "dist_df.head()\n",
    "try:\n",
    "    dist_df[['target', 'image']] = pd.DataFrame(dist_df[0].tolist(), index=dist_df.index)\n",
    "    dist_df = dist_df.rename(columns={0: \"data\", 1: \"dist\"})\n",
    "except:\n",
    "    pass\n",
    "dist_df['match'] = dist_df['target'] == dist_df['image']"
   ]
  },
  {
   "cell_type": "code",
   "execution_count": 216,
   "id": "characteristic-expert",
   "metadata": {},
   "outputs": [
    {
     "data": {
      "text/html": [
       "<div>\n",
       "<style scoped>\n",
       "    .dataframe tbody tr th:only-of-type {\n",
       "        vertical-align: middle;\n",
       "    }\n",
       "\n",
       "    .dataframe tbody tr th {\n",
       "        vertical-align: top;\n",
       "    }\n",
       "\n",
       "    .dataframe thead th {\n",
       "        text-align: right;\n",
       "    }\n",
       "</style>\n",
       "<table border=\"1\" class=\"dataframe\">\n",
       "  <thead>\n",
       "    <tr style=\"text-align: right;\">\n",
       "      <th></th>\n",
       "      <th>data</th>\n",
       "      <th>dist</th>\n",
       "      <th>target</th>\n",
       "      <th>image</th>\n",
       "      <th>match</th>\n",
       "    </tr>\n",
       "  </thead>\n",
       "  <tbody>\n",
       "    <tr>\n",
       "      <th>0</th>\n",
       "      <td>(frankfurt_000001_057954_0, frankfurt_000001_0...</td>\n",
       "      <td>0.0885</td>\n",
       "      <td>frankfurt_000001_057954_0</td>\n",
       "      <td>frankfurt_000001_057954_0</td>\n",
       "      <td>True</td>\n",
       "    </tr>\n",
       "    <tr>\n",
       "      <th>1</th>\n",
       "      <td>(frankfurt_000001_010600_1, frankfurt_000001_0...</td>\n",
       "      <td>0.0962</td>\n",
       "      <td>frankfurt_000001_010600_1</td>\n",
       "      <td>frankfurt_000001_010600_1</td>\n",
       "      <td>True</td>\n",
       "    </tr>\n",
       "    <tr>\n",
       "      <th>2</th>\n",
       "      <td>(aachen_000111_000019_19, aachen_000111_000019...</td>\n",
       "      <td>0.0974</td>\n",
       "      <td>aachen_000111_000019_19</td>\n",
       "      <td>aachen_000111_000019_19</td>\n",
       "      <td>True</td>\n",
       "    </tr>\n",
       "    <tr>\n",
       "      <th>3</th>\n",
       "      <td>(jena_000000_000019_1, jena_000000_000019_1)</td>\n",
       "      <td>0.1035</td>\n",
       "      <td>jena_000000_000019_1</td>\n",
       "      <td>jena_000000_000019_1</td>\n",
       "      <td>True</td>\n",
       "    </tr>\n",
       "    <tr>\n",
       "      <th>4</th>\n",
       "      <td>(jena_000027_000019_7, jena_000027_000019_7)</td>\n",
       "      <td>0.1043</td>\n",
       "      <td>jena_000027_000019_7</td>\n",
       "      <td>jena_000027_000019_7</td>\n",
       "      <td>True</td>\n",
       "    </tr>\n",
       "    <tr>\n",
       "      <th>...</th>\n",
       "      <td>...</td>\n",
       "      <td>...</td>\n",
       "      <td>...</td>\n",
       "      <td>...</td>\n",
       "      <td>...</td>\n",
       "    </tr>\n",
       "    <tr>\n",
       "      <th>130795</th>\n",
       "      <td>(dusseldorf_000045_000019_1, dusseldorf_000015...</td>\n",
       "      <td>0.6761</td>\n",
       "      <td>dusseldorf_000045_000019_1</td>\n",
       "      <td>dusseldorf_000015_000019_0</td>\n",
       "      <td>False</td>\n",
       "    </tr>\n",
       "    <tr>\n",
       "      <th>130796</th>\n",
       "      <td>(erfurt_000050_000019_4, erfurt_000069_000019_4)</td>\n",
       "      <td>0.6762</td>\n",
       "      <td>erfurt_000050_000019_4</td>\n",
       "      <td>erfurt_000069_000019_4</td>\n",
       "      <td>False</td>\n",
       "    </tr>\n",
       "    <tr>\n",
       "      <th>130797</th>\n",
       "      <td>(jena_000027_000019_7, frankfurt_000000_020321_5)</td>\n",
       "      <td>0.6782</td>\n",
       "      <td>jena_000027_000019_7</td>\n",
       "      <td>frankfurt_000000_020321_5</td>\n",
       "      <td>False</td>\n",
       "    </tr>\n",
       "    <tr>\n",
       "      <th>130798</th>\n",
       "      <td>(erfurt_000050_000019_4, weimar_000095_000019_2)</td>\n",
       "      <td>0.6799</td>\n",
       "      <td>erfurt_000050_000019_4</td>\n",
       "      <td>weimar_000095_000019_2</td>\n",
       "      <td>False</td>\n",
       "    </tr>\n",
       "    <tr>\n",
       "      <th>130799</th>\n",
       "      <td>(erfurt_000050_000019_4, jena_000019_000019_0)</td>\n",
       "      <td>0.6987</td>\n",
       "      <td>erfurt_000050_000019_4</td>\n",
       "      <td>jena_000019_000019_0</td>\n",
       "      <td>False</td>\n",
       "    </tr>\n",
       "  </tbody>\n",
       "</table>\n",
       "<p>130800 rows × 5 columns</p>\n",
       "</div>"
      ],
      "text/plain": [
       "                                                     data    dist  \\\n",
       "0       (frankfurt_000001_057954_0, frankfurt_000001_0...  0.0885   \n",
       "1       (frankfurt_000001_010600_1, frankfurt_000001_0...  0.0962   \n",
       "2       (aachen_000111_000019_19, aachen_000111_000019...  0.0974   \n",
       "3            (jena_000000_000019_1, jena_000000_000019_1)  0.1035   \n",
       "4            (jena_000027_000019_7, jena_000027_000019_7)  0.1043   \n",
       "...                                                   ...     ...   \n",
       "130795  (dusseldorf_000045_000019_1, dusseldorf_000015...  0.6761   \n",
       "130796   (erfurt_000050_000019_4, erfurt_000069_000019_4)  0.6762   \n",
       "130797  (jena_000027_000019_7, frankfurt_000000_020321_5)  0.6782   \n",
       "130798   (erfurt_000050_000019_4, weimar_000095_000019_2)  0.6799   \n",
       "130799     (erfurt_000050_000019_4, jena_000019_000019_0)  0.6987   \n",
       "\n",
       "                            target                       image  match  \n",
       "0        frankfurt_000001_057954_0   frankfurt_000001_057954_0   True  \n",
       "1        frankfurt_000001_010600_1   frankfurt_000001_010600_1   True  \n",
       "2          aachen_000111_000019_19     aachen_000111_000019_19   True  \n",
       "3             jena_000000_000019_1        jena_000000_000019_1   True  \n",
       "4             jena_000027_000019_7        jena_000027_000019_7   True  \n",
       "...                            ...                         ...    ...  \n",
       "130795  dusseldorf_000045_000019_1  dusseldorf_000015_000019_0  False  \n",
       "130796      erfurt_000050_000019_4      erfurt_000069_000019_4  False  \n",
       "130797        jena_000027_000019_7   frankfurt_000000_020321_5  False  \n",
       "130798      erfurt_000050_000019_4      weimar_000095_000019_2  False  \n",
       "130799      erfurt_000050_000019_4        jena_000019_000019_0  False  \n",
       "\n",
       "[130800 rows x 5 columns]"
      ]
     },
     "execution_count": 216,
     "metadata": {},
     "output_type": "execute_result"
    }
   ],
   "source": [
    "dist_df"
   ]
  },
  {
   "cell_type": "code",
   "execution_count": 217,
   "id": "ordinary-brass",
   "metadata": {},
   "outputs": [
    {
     "data": {
      "text/plain": [
       "[0.0,\n",
       " 0.02,\n",
       " 0.04,\n",
       " 0.06,\n",
       " 0.08,\n",
       " 0.1,\n",
       " 0.12,\n",
       " 0.14,\n",
       " 0.16,\n",
       " 0.18,\n",
       " 0.2,\n",
       " 0.22,\n",
       " 0.24,\n",
       " 0.26,\n",
       " 0.28,\n",
       " 0.3,\n",
       " 0.32,\n",
       " 0.34,\n",
       " 0.36,\n",
       " 0.39]"
      ]
     },
     "execution_count": 217,
     "metadata": {},
     "output_type": "execute_result"
    }
   ],
   "source": [
    "splits = np.linspace(0,max_match_dist, num=20)\n",
    "splits = [round(s,2) for s in splits]\n",
    "splits[-1] += 0.01\n",
    "splits"
   ]
  },
  {
   "cell_type": "markdown",
   "id": "turned-onion",
   "metadata": {},
   "source": [
    "## All images"
   ]
  },
  {
   "cell_type": "code",
   "execution_count": 218,
   "id": "welsh-boulder",
   "metadata": {},
   "outputs": [
    {
     "name": "stdout",
     "output_type": "stream",
     "text": [
      "THRESHOLD: 0.0\n",
      "F1 0.0\n",
      "\n",
      "THRESHOLD: 0.02\n",
      "F1 0.0\n",
      "\n",
      "THRESHOLD: 0.04\n",
      "F1 0.0\n",
      "\n",
      "THRESHOLD: 0.06\n",
      "F1 0.0\n",
      "\n",
      "THRESHOLD: 0.08\n",
      "F1 0.0\n",
      "\n",
      "THRESHOLD: 0.1\n",
      "F1 0.0536\n",
      "\n",
      "THRESHOLD: 0.12\n",
      "F1 0.1043\n",
      "\n",
      "THRESHOLD: 0.14\n",
      "F1 0.2276\n",
      "\n",
      "THRESHOLD: 0.16\n",
      "F1 0.3796\n",
      "\n",
      "THRESHOLD: 0.18\n",
      "F1 0.4658\n",
      "\n",
      "THRESHOLD: 0.2\n",
      "F1 0.5549\n",
      "\n",
      "THRESHOLD: 0.22\n",
      "F1 0.5865\n",
      "\n",
      "THRESHOLD: 0.24\n",
      "F1 0.5639\n",
      "\n",
      "THRESHOLD: 0.26\n",
      "F1 0.4553\n",
      "\n",
      "THRESHOLD: 0.28\n",
      "F1 0.3113\n",
      "\n",
      "THRESHOLD: 0.3\n",
      "F1 0.204\n",
      "\n",
      "THRESHOLD: 0.32\n",
      "F1 0.1341\n",
      "\n",
      "THRESHOLD: 0.34\n",
      "F1 0.0791\n",
      "\n",
      "THRESHOLD: 0.36\n",
      "F1 0.0475\n",
      "\n",
      "THRESHOLD: 0.39\n",
      "F1 0.0227\n",
      "\n"
     ]
    }
   ],
   "source": [
    "y_true = dist_df['match']\n",
    "f1_splits = {}\n",
    "\n",
    "for threshold in splits:\n",
    "    print('THRESHOLD:', threshold)\n",
    "    y_pred = dist_df['dist'] <= threshold\n",
    "    f1 = sklearn.metrics.f1_score(y_true, y_pred, average='binary')\n",
    "    f1_splits[threshold] = f1\n",
    "    print('F1', round(f1, 4))\n",
    "    print()\n",
    "    "
   ]
  },
  {
   "cell_type": "code",
   "execution_count": 219,
   "id": "junior-crisis",
   "metadata": {},
   "outputs": [
    {
     "data": {
      "text/plain": [
       "(0.22, 0.5865384615384615)"
      ]
     },
     "execution_count": 219,
     "metadata": {},
     "output_type": "execute_result"
    }
   ],
   "source": [
    "max(f1_splits.items(), key = lambda k : k[1])"
   ]
  },
  {
   "cell_type": "markdown",
   "id": "corrected-junior",
   "metadata": {},
   "source": [
    "## Matches Only"
   ]
  },
  {
   "cell_type": "code",
   "execution_count": 220,
   "id": "metallic-future",
   "metadata": {},
   "outputs": [
    {
     "data": {
      "text/html": [
       "<div>\n",
       "<style scoped>\n",
       "    .dataframe tbody tr th:only-of-type {\n",
       "        vertical-align: middle;\n",
       "    }\n",
       "\n",
       "    .dataframe tbody tr th {\n",
       "        vertical-align: top;\n",
       "    }\n",
       "\n",
       "    .dataframe thead th {\n",
       "        text-align: right;\n",
       "    }\n",
       "</style>\n",
       "<table border=\"1\" class=\"dataframe\">\n",
       "  <thead>\n",
       "    <tr style=\"text-align: right;\">\n",
       "      <th></th>\n",
       "      <th>data</th>\n",
       "      <th>dist</th>\n",
       "      <th>target</th>\n",
       "      <th>image</th>\n",
       "      <th>match</th>\n",
       "    </tr>\n",
       "  </thead>\n",
       "  <tbody>\n",
       "    <tr>\n",
       "      <th>0</th>\n",
       "      <td>(frankfurt_000001_057954_0, frankfurt_000001_0...</td>\n",
       "      <td>0.0885</td>\n",
       "      <td>frankfurt_000001_057954_0</td>\n",
       "      <td>frankfurt_000001_057954_0</td>\n",
       "      <td>True</td>\n",
       "    </tr>\n",
       "    <tr>\n",
       "      <th>1</th>\n",
       "      <td>(frankfurt_000001_010600_1, frankfurt_000001_0...</td>\n",
       "      <td>0.0962</td>\n",
       "      <td>frankfurt_000001_010600_1</td>\n",
       "      <td>frankfurt_000001_010600_1</td>\n",
       "      <td>True</td>\n",
       "    </tr>\n",
       "    <tr>\n",
       "      <th>2</th>\n",
       "      <td>(aachen_000111_000019_19, aachen_000111_000019...</td>\n",
       "      <td>0.0974</td>\n",
       "      <td>aachen_000111_000019_19</td>\n",
       "      <td>aachen_000111_000019_19</td>\n",
       "      <td>True</td>\n",
       "    </tr>\n",
       "    <tr>\n",
       "      <th>3</th>\n",
       "      <td>(jena_000000_000019_1, jena_000000_000019_1)</td>\n",
       "      <td>0.1035</td>\n",
       "      <td>jena_000000_000019_1</td>\n",
       "      <td>jena_000000_000019_1</td>\n",
       "      <td>True</td>\n",
       "    </tr>\n",
       "    <tr>\n",
       "      <th>4</th>\n",
       "      <td>(jena_000027_000019_7, jena_000027_000019_7)</td>\n",
       "      <td>0.1043</td>\n",
       "      <td>jena_000027_000019_7</td>\n",
       "      <td>jena_000027_000019_7</td>\n",
       "      <td>True</td>\n",
       "    </tr>\n",
       "    <tr>\n",
       "      <th>...</th>\n",
       "      <td>...</td>\n",
       "      <td>...</td>\n",
       "      <td>...</td>\n",
       "      <td>...</td>\n",
       "      <td>...</td>\n",
       "    </tr>\n",
       "    <tr>\n",
       "      <th>4377</th>\n",
       "      <td>(erfurt_000083_000019_3, erfurt_000083_000019_3)</td>\n",
       "      <td>0.3610</td>\n",
       "      <td>erfurt_000083_000019_3</td>\n",
       "      <td>erfurt_000083_000019_3</td>\n",
       "      <td>True</td>\n",
       "    </tr>\n",
       "    <tr>\n",
       "      <th>5356</th>\n",
       "      <td>(aachen_000071_000019_16, aachen_000071_000019...</td>\n",
       "      <td>0.3682</td>\n",
       "      <td>aachen_000071_000019_16</td>\n",
       "      <td>aachen_000071_000019_16</td>\n",
       "      <td>True</td>\n",
       "    </tr>\n",
       "    <tr>\n",
       "      <th>6165</th>\n",
       "      <td>(aachen_000017_000019_12, aachen_000017_000019...</td>\n",
       "      <td>0.3734</td>\n",
       "      <td>aachen_000017_000019_12</td>\n",
       "      <td>aachen_000017_000019_12</td>\n",
       "      <td>True</td>\n",
       "    </tr>\n",
       "    <tr>\n",
       "      <th>6664</th>\n",
       "      <td>(aachen_000046_000019_1, aachen_000046_000019_1)</td>\n",
       "      <td>0.3765</td>\n",
       "      <td>aachen_000046_000019_1</td>\n",
       "      <td>aachen_000046_000019_1</td>\n",
       "      <td>True</td>\n",
       "    </tr>\n",
       "    <tr>\n",
       "      <th>8152</th>\n",
       "      <td>(bremen_000100_000019_9, bremen_000100_000019_9)</td>\n",
       "      <td>0.3843</td>\n",
       "      <td>bremen_000100_000019_9</td>\n",
       "      <td>bremen_000100_000019_9</td>\n",
       "      <td>True</td>\n",
       "    </tr>\n",
       "  </tbody>\n",
       "</table>\n",
       "<p>109 rows × 5 columns</p>\n",
       "</div>"
      ],
      "text/plain": [
       "                                                   data    dist  \\\n",
       "0     (frankfurt_000001_057954_0, frankfurt_000001_0...  0.0885   \n",
       "1     (frankfurt_000001_010600_1, frankfurt_000001_0...  0.0962   \n",
       "2     (aachen_000111_000019_19, aachen_000111_000019...  0.0974   \n",
       "3          (jena_000000_000019_1, jena_000000_000019_1)  0.1035   \n",
       "4          (jena_000027_000019_7, jena_000027_000019_7)  0.1043   \n",
       "...                                                 ...     ...   \n",
       "4377   (erfurt_000083_000019_3, erfurt_000083_000019_3)  0.3610   \n",
       "5356  (aachen_000071_000019_16, aachen_000071_000019...  0.3682   \n",
       "6165  (aachen_000017_000019_12, aachen_000017_000019...  0.3734   \n",
       "6664   (aachen_000046_000019_1, aachen_000046_000019_1)  0.3765   \n",
       "8152   (bremen_000100_000019_9, bremen_000100_000019_9)  0.3843   \n",
       "\n",
       "                         target                      image  match  \n",
       "0     frankfurt_000001_057954_0  frankfurt_000001_057954_0   True  \n",
       "1     frankfurt_000001_010600_1  frankfurt_000001_010600_1   True  \n",
       "2       aachen_000111_000019_19    aachen_000111_000019_19   True  \n",
       "3          jena_000000_000019_1       jena_000000_000019_1   True  \n",
       "4          jena_000027_000019_7       jena_000027_000019_7   True  \n",
       "...                         ...                        ...    ...  \n",
       "4377     erfurt_000083_000019_3     erfurt_000083_000019_3   True  \n",
       "5356    aachen_000071_000019_16    aachen_000071_000019_16   True  \n",
       "6165    aachen_000017_000019_12    aachen_000017_000019_12   True  \n",
       "6664     aachen_000046_000019_1     aachen_000046_000019_1   True  \n",
       "8152     bremen_000100_000019_9     bremen_000100_000019_9   True  \n",
       "\n",
       "[109 rows x 5 columns]"
      ]
     },
     "execution_count": 220,
     "metadata": {},
     "output_type": "execute_result"
    }
   ],
   "source": [
    "dist_match_df = dist_df[dist_df['match']== True]\n",
    "dist_match_df"
   ]
  },
  {
   "cell_type": "code",
   "execution_count": 226,
   "id": "subtle-gathering",
   "metadata": {},
   "outputs": [
    {
     "name": "stdout",
     "output_type": "stream",
     "text": [
      "THRESHOLD: 0.0\n",
      "matches F1 0.0\n",
      "\n",
      "THRESHOLD: 0.02\n",
      "matches F1 0.0\n",
      "\n",
      "THRESHOLD: 0.04\n",
      "matches F1 0.0\n",
      "\n",
      "THRESHOLD: 0.06\n",
      "matches F1 0.0\n",
      "\n",
      "THRESHOLD: 0.08\n",
      "matches F1 0.0\n",
      "\n",
      "THRESHOLD: 0.1\n",
      "matches F1 0.0536\n",
      "\n",
      "THRESHOLD: 0.12\n",
      "matches F1 0.1043\n",
      "\n",
      "THRESHOLD: 0.14\n",
      "matches F1 0.2276\n",
      "\n",
      "THRESHOLD: 0.16\n",
      "matches F1 0.3852\n",
      "\n",
      "THRESHOLD: 0.18\n",
      "matches F1 0.4755\n",
      "\n",
      "THRESHOLD: 0.2\n",
      "matches F1 0.6115\n",
      "\n",
      "THRESHOLD: 0.22\n",
      "matches F1 0.7176\n",
      "\n",
      "THRESHOLD: 0.24\n",
      "matches F1 0.8152\n",
      "\n",
      "THRESHOLD: 0.26\n",
      "matches F1 0.8705\n",
      "\n",
      "THRESHOLD: 0.28\n",
      "matches F1 0.8878\n",
      "\n",
      "THRESHOLD: 0.3\n",
      "matches F1 0.91\n",
      "\n",
      "THRESHOLD: 0.32\n",
      "matches F1 0.9519\n",
      "\n",
      "THRESHOLD: 0.34\n",
      "matches F1 0.9668\n",
      "\n",
      "THRESHOLD: 0.36\n",
      "matches F1 0.9765\n",
      "\n",
      "THRESHOLD: 0.39\n",
      "matches F1 1.0\n",
      "\n"
     ]
    }
   ],
   "source": [
    "y_true = dist_match_df['match']\n",
    "match_f1_splits = {}\n",
    "\n",
    "for threshold in splits:\n",
    "    print('THRESHOLD:', threshold)\n",
    "    y_pred = dist_match_df['dist'] <= threshold\n",
    "    match_f1 = sklearn.metrics.f1_score(y_true, y_pred, average='binary')\n",
    "    match_f1_splits[threshold] = match_f1\n",
    "    print('matches F1', round(match_f1, 4))\n",
    "    print()"
   ]
  },
  {
   "cell_type": "code",
   "execution_count": 230,
   "id": "imported-valuable",
   "metadata": {},
   "outputs": [
    {
     "name": "stdout",
     "output_type": "stream",
     "text": [
      "threshold, f1\n"
     ]
    },
    {
     "data": {
      "text/plain": [
       "(0.39, 1.0)"
      ]
     },
     "execution_count": 230,
     "metadata": {},
     "output_type": "execute_result"
    }
   ],
   "source": [
    "print('threshold, f1')\n",
    "max(match_f1_splits.items(), key = lambda k : k[1])"
   ]
  },
  {
   "cell_type": "code",
   "execution_count": null,
   "id": "fantastic-canadian",
   "metadata": {},
   "outputs": [],
   "source": []
  }
 ],
 "metadata": {
  "kernelspec": {
   "display_name": "Python 3",
   "language": "python",
   "name": "python3"
  },
  "language_info": {
   "codemirror_mode": {
    "name": "ipython",
    "version": 3
   },
   "file_extension": ".py",
   "mimetype": "text/x-python",
   "name": "python",
   "nbconvert_exporter": "python",
   "pygments_lexer": "ipython3",
   "version": "3.8.6"
  }
 },
 "nbformat": 4,
 "nbformat_minor": 5
}
