{
 "cells": [
  {
   "cell_type": "markdown",
   "metadata": {},
   "source": [
    "# Creating train/val/test split for cityscapes dataset"
   ]
  },
  {
   "cell_type": "markdown",
   "metadata": {},
   "source": [
    "### Final Datasets:\n",
    "(Created by combining training and validation datasets from cityscapes)\n",
    "- Train: 2475 images\n",
    "- Validation: 500 images\n",
    "- Test: 500 images \n",
    "\n",
    "\n",
    "### Original Datasets:\n",
    "Train Dataset:\n",
    "- Total number of input images: 2975\n",
    "- Total number of people saved as cropped output images: 8191\n",
    "- Total number of people annotations in input data: 16526\n",
    "- Percent people included: 0.5\n",
    "\n",
    "Validation Dataset:\n",
    "- 500 Images\n",
    "\n",
    "Cityscapes Test Dataset:\n",
    "- 1525 Images\n",
    "- Bounding Box annotations not provided"
   ]
  },
  {
   "cell_type": "code",
   "execution_count": 1,
   "metadata": {
    "id": "8GA3cbgkuxw4"
   },
   "outputs": [],
   "source": [
    "COLAB = False\n",
    "\n",
    "import os\n",
    "import cv2\n",
    "import numpy as np\n",
    "import pickle\n",
    "\n",
    "from PIL import Image\n",
    "from IPython.display import display\n",
    "\n",
    "if COLAB:\n",
    "    from google.colab.patches import cv2_imshow\n",
    "\n",
    "\n",
    "IMG_WIDTH = 2048\n",
    "IMG_HEIGHT = 1024"
   ]
  },
  {
   "cell_type": "markdown",
   "metadata": {},
   "source": [
    "---"
   ]
  },
  {
   "cell_type": "code",
   "execution_count": 3,
   "metadata": {},
   "outputs": [
    {
     "name": "stdout",
     "output_type": "stream",
     "text": [
      "zurich\n",
      "strasbourg\n",
      "weimar\n",
      "munster\n",
      "aachen\n",
      "tubingen\n",
      "jena\n",
      "bochum\n",
      "darmstadt\n",
      "dusseldorf\n",
      "hamburg\n",
      "cologne\n",
      "lindau\n",
      "monchengladbach\n",
      "frankfurt\n",
      "krefeld\n",
      "ulm\n",
      "hanover\n",
      "stuttgart\n",
      "erfurt\n",
      "bremen\n"
     ]
    }
   ],
   "source": [
    "all_images = []\n",
    "ignore_directories = ['.DS_Store', 'demo', 'test']\n",
    "for directory in os.listdir('images/'):\n",
    "    if directory not in ignore_directories:\n",
    "        print(directory)\n",
    "        images = os.listdir('images/'+directory)\n",
    "        if '.DS_Store' in images:\n",
    "            images.remove('.DS_Store')\n",
    "#         print(len(images))\n",
    "        all_images.extend(images)"
   ]
  },
  {
   "cell_type": "code",
   "execution_count": 44,
   "metadata": {},
   "outputs": [
    {
     "name": "stdout",
     "output_type": "stream",
     "text": [
      "{'zurich': 122, 'strasbourg': 365, 'weimar': 142, 'munster': 174, 'aachen': 174, 'tubingen': 144, 'jena': 119, 'bochum': 96, 'darmstadt': 85, 'dusseldorf': 221, 'hamburg': 248, 'cologne': 154, 'lindau': 59, 'monchengladbach': 94, 'frankfurt': 267, 'krefeld': 99, 'ulm': 95, 'hanover': 196, 'stuttgart': 196, 'erfurt': 109, 'bremen': 316}\n"
     ]
    }
   ],
   "source": [
    "city_counts_all = {}\n",
    "\n",
    "for filename in all_images:\n",
    "    city = filename[:-30]\n",
    "    if city in city_counts_all:\n",
    "        city_counts_all[city] += 1\n",
    "    else:\n",
    "        city_counts_all[city] = 1\n",
    "\n",
    "print(city_counts_all)"
   ]
  },
  {
   "cell_type": "markdown",
   "metadata": {},
   "source": [
    "{'zurich': 122, 'strasbourg': 365, 'weimar': 142, 'munster': 174, 'aachen': 174, 'tubingen': 144, 'jena': 119, 'bochum': 96, 'darmstadt': 85, 'dusseldorf': 221, 'hamburg': 248, 'cologne': 154, 'lindau': 59, 'monchengladbach': 94, 'frankfurt': 267, 'krefeld': 99, 'ulm': 95, 'hanover': 196, 'stuttgart': 196, 'erfurt': 109, 'bremen': 316}"
   ]
  },
  {
   "cell_type": "code",
   "execution_count": 35,
   "metadata": {},
   "outputs": [
    {
     "data": {
      "text/plain": [
       "3475"
      ]
     },
     "execution_count": 35,
     "metadata": {},
     "output_type": "execute_result"
    }
   ],
   "source": [
    "len(all_images)"
   ]
  },
  {
   "cell_type": "code",
   "execution_count": 106,
   "metadata": {},
   "outputs": [
    {
     "data": {
      "text/plain": [
       "'krefeld'"
      ]
     },
     "execution_count": 106,
     "metadata": {},
     "output_type": "execute_result"
    }
   ],
   "source": [
    "# Get city from filename\n",
    "a='krefeld_000000_012505_leftImg8bit.png'\n",
    "a[:-30]"
   ]
  },
  {
   "cell_type": "markdown",
   "metadata": {},
   "source": [
    "## Create Test Set of 500 images"
   ]
  },
  {
   "cell_type": "code",
   "execution_count": 105,
   "metadata": {},
   "outputs": [
    {
     "data": {
      "text/plain": [
       "500"
      ]
     },
     "execution_count": 105,
     "metadata": {},
     "output_type": "execute_result"
    }
   ],
   "source": [
    "test_images = np.random.choice(all_images, 500, replace=False)\n",
    "len(test_images)"
   ]
  },
  {
   "cell_type": "code",
   "execution_count": 118,
   "metadata": {},
   "outputs": [
    {
     "name": "stdout",
     "output_type": "stream",
     "text": [
      "{'cologne': 34, 'erfurt': 16, 'tubingen': 19, 'hamburg': 32, 'stuttgart': 30, 'zurich': 14, 'jena': 16, 'strasbourg': 61, 'munster': 28, 'dusseldorf': 28, 'bremen': 42, 'monchengladbach': 10, 'darmstadt': 10, 'hanover': 25, 'lindau': 9, 'ulm': 19, 'frankfurt': 32, 'weimar': 24, 'krefeld': 15, 'aachen': 23, 'bochum': 13}\n"
     ]
    }
   ],
   "source": [
    "# print(test_images)\n",
    "\n",
    "city_counts_test = {}\n",
    "\n",
    "for filename in test_images:\n",
    "    city = filename[:-30]\n",
    "    if city in city_counts_test:\n",
    "        city_counts_test[city] += 1\n",
    "    else:\n",
    "        city_counts_test[city] = 1\n",
    "\n",
    "print(city_counts_test)"
   ]
  },
  {
   "cell_type": "markdown",
   "metadata": {},
   "source": [
    "{'cologne': 34, 'erfurt': 16, 'tubingen': 19, 'hamburg': 32, 'stuttgart': 30, 'zurich': 14, 'jena': 16, 'strasbourg': 61, 'munster': 28, 'dusseldorf': 28, 'bremen': 42, 'monchengladbach': 10, 'darmstadt': 10, 'hanover': 25, 'lindau': 9, 'ulm': 19, 'frankfurt': 32, 'weimar': 24, 'krefeld': 15, 'aachen': 23, 'bochum': 13}"
   ]
  },
  {
   "cell_type": "code",
   "execution_count": 109,
   "metadata": {},
   "outputs": [
    {
     "name": "stdout",
     "output_type": "stream",
     "text": [
      "{'cologne': 0.22, 'erfurt': 0.15, 'tubingen': 0.13, 'hamburg': 0.13, 'stuttgart': 0.15, 'zurich': 0.11, 'jena': 0.13, 'strasbourg': 0.17, 'munster': 0.16, 'dusseldorf': 0.13, 'bremen': 0.13, 'monchengladbach': 0.11, 'darmstadt': 0.12, 'hanover': 0.13, 'lindau': 0.15, 'ulm': 0.2, 'frankfurt': 0.12, 'weimar': 0.17, 'krefeld': 0.15, 'aachen': 0.13, 'bochum': 0.14}\n"
     ]
    }
   ],
   "source": [
    "city_perc_test = {}\n",
    "for city in city_counts_test.keys():\n",
    "    city_perc_test[city] = round(city_counts_test[city]/city_counts_all[city],2)\n",
    "    \n",
    "print(city_perc_test)"
   ]
  },
  {
   "cell_type": "markdown",
   "metadata": {},
   "source": [
    "{'cologne': 0.22, 'erfurt': 0.15, 'tubingen': 0.13, 'hamburg': 0.13, 'stuttgart': 0.15, 'zurich': 0.11, 'jena': 0.13, 'strasbourg': 0.17, 'munster': 0.16, 'dusseldorf': 0.13, 'bremen': 0.13, 'monchengladbach': 0.11, 'darmstadt': 0.12, 'hanover': 0.13, 'lindau': 0.15, 'ulm': 0.2, 'frankfurt': 0.12, 'weimar': 0.17, 'krefeld': 0.15, 'aachen': 0.13, 'bochum': 0.14}"
   ]
  },
  {
   "cell_type": "code",
   "execution_count": 114,
   "metadata": {},
   "outputs": [],
   "source": [
    "### Save Test Image Filenames\n",
    "\n",
    "# with open('test_images_v.pkl', 'wb') as f:\n",
    "#     pickle.dump(test_images, f)"
   ]
  },
  {
   "cell_type": "code",
   "execution_count": 115,
   "metadata": {},
   "outputs": [],
   "source": [
    "with open('test_images.pkl', 'rb') as f:\n",
    "    saved_test_images = pickle.load(f)"
   ]
  },
  {
   "cell_type": "markdown",
   "metadata": {},
   "source": [
    "## Create Validation Dataset of 500 images"
   ]
  },
  {
   "cell_type": "code",
   "execution_count": 65,
   "metadata": {},
   "outputs": [
    {
     "data": {
      "text/plain": [
       "3475"
      ]
     },
     "execution_count": 65,
     "metadata": {},
     "output_type": "execute_result"
    }
   ],
   "source": [
    "len(all_images)"
   ]
  },
  {
   "cell_type": "code",
   "execution_count": 116,
   "metadata": {},
   "outputs": [
    {
     "data": {
      "text/plain": [
       "2975"
      ]
     },
     "execution_count": 116,
     "metadata": {},
     "output_type": "execute_result"
    }
   ],
   "source": [
    "nontest_images = list(set(all_images) - set(test_images))\n",
    "len(nontest_images)"
   ]
  },
  {
   "cell_type": "code",
   "execution_count": 120,
   "metadata": {},
   "outputs": [
    {
     "data": {
      "text/plain": [
       "500"
      ]
     },
     "execution_count": 120,
     "metadata": {},
     "output_type": "execute_result"
    }
   ],
   "source": [
    "val_images = np.random.choice(nontest_images, 500, replace=False)\n",
    "len(val_images)"
   ]
  },
  {
   "cell_type": "code",
   "execution_count": 121,
   "metadata": {},
   "outputs": [
    {
     "name": "stdout",
     "output_type": "stream",
     "text": [
      "{'stuttgart': 32, 'krefeld': 13, 'jena': 13, 'dusseldorf': 27, 'frankfurt': 42, 'ulm': 18, 'monchengladbach': 15, 'lindau': 7, 'strasbourg': 51, 'weimar': 21, 'bremen': 43, 'erfurt': 19, 'hamburg': 39, 'tubingen': 26, 'hanover': 20, 'munster': 20, 'cologne': 25, 'zurich': 19, 'aachen': 23, 'bochum': 16, 'darmstadt': 11}\n"
     ]
    }
   ],
   "source": [
    "city_counts_val = {}\n",
    "\n",
    "for filename in val_images:\n",
    "    city = filename[:-30]\n",
    "    if city in city_counts_val:\n",
    "        city_counts_val[city] += 1\n",
    "    else:\n",
    "        city_counts_val[city] = 1\n",
    "\n",
    "print(city_counts_val)"
   ]
  },
  {
   "cell_type": "markdown",
   "metadata": {},
   "source": [
    "{'stuttgart': 32, 'krefeld': 13, 'jena': 13, 'dusseldorf': 27, 'frankfurt': 42, 'ulm': 18, 'monchengladbach': 15, 'lindau': 7, 'strasbourg': 51, 'weimar': 21, 'bremen': 43, 'erfurt': 19, 'hamburg': 39, 'tubingen': 26, 'hanover': 20, 'munster': 20, 'cologne': 25, 'zurich': 19, 'aachen': 23, 'bochum': 16, 'darmstadt': 11}"
   ]
  },
  {
   "cell_type": "code",
   "execution_count": 122,
   "metadata": {},
   "outputs": [
    {
     "name": "stdout",
     "output_type": "stream",
     "text": [
      "{'stuttgart': 0.16, 'krefeld': 0.13, 'jena': 0.11, 'dusseldorf': 0.12, 'frankfurt': 0.16, 'ulm': 0.19, 'monchengladbach': 0.16, 'lindau': 0.12, 'strasbourg': 0.14, 'weimar': 0.15, 'bremen': 0.14, 'erfurt': 0.17, 'hamburg': 0.16, 'tubingen': 0.18, 'hanover': 0.1, 'munster': 0.11, 'cologne': 0.16, 'zurich': 0.16, 'aachen': 0.13, 'bochum': 0.17, 'darmstadt': 0.13}\n"
     ]
    }
   ],
   "source": [
    "city_perc_val = {}\n",
    "for city in city_counts_val.keys():\n",
    "    city_perc_val[city] = round(city_counts_val[city]/city_counts_all[city],2)\n",
    "    \n",
    "print(city_perc_val)"
   ]
  },
  {
   "cell_type": "markdown",
   "metadata": {},
   "source": [
    "{'stuttgart': 0.16, 'krefeld': 0.13, 'jena': 0.11, 'dusseldorf': 0.12, 'frankfurt': 0.16, 'ulm': 0.19, 'monchengladbach': 0.16, 'lindau': 0.12, 'strasbourg': 0.14, 'weimar': 0.15, 'bremen': 0.14, 'erfurt': 0.17, 'hamburg': 0.16, 'tubingen': 0.18, 'hanover': 0.1, 'munster': 0.11, 'cologne': 0.16, 'zurich': 0.16, 'aachen': 0.13, 'bochum': 0.17, 'darmstadt': 0.13}"
   ]
  },
  {
   "cell_type": "code",
   "execution_count": 123,
   "metadata": {},
   "outputs": [],
   "source": [
    "# with open('val_images_v.pkl', 'wb') as f:\n",
    "#     pickle.dump(val_images, f)"
   ]
  },
  {
   "cell_type": "code",
   "execution_count": 124,
   "metadata": {},
   "outputs": [],
   "source": [
    "with open('val_images.pkl', 'rb') as f:\n",
    "    saved_val_images = pickle.load(f)"
   ]
  },
  {
   "cell_type": "code",
   "execution_count": 127,
   "metadata": {},
   "outputs": [],
   "source": [
    "l_val_images = list(saved_val_images)"
   ]
  },
  {
   "cell_type": "code",
   "execution_count": 128,
   "metadata": {},
   "outputs": [
    {
     "data": {
      "text/plain": [
       "set()"
      ]
     },
     "execution_count": 128,
     "metadata": {},
     "output_type": "execute_result"
    }
   ],
   "source": [
    "set([x for x in l_val_images if l_val_images.count(x) > 1])\n"
   ]
  },
  {
   "cell_type": "markdown",
   "metadata": {},
   "source": [
    "## Create Training Dataset"
   ]
  },
  {
   "cell_type": "code",
   "execution_count": 150,
   "metadata": {},
   "outputs": [
    {
     "data": {
      "text/plain": [
       "2475"
      ]
     },
     "execution_count": 150,
     "metadata": {},
     "output_type": "execute_result"
    }
   ],
   "source": [
    "train_images = list(set(all_images) - set(test_images) - set(val_images))\n",
    "len(train_images)"
   ]
  },
  {
   "cell_type": "code",
   "execution_count": 154,
   "metadata": {},
   "outputs": [
    {
     "name": "stdout",
     "output_type": "stream",
     "text": [
      "{'bremen': 231, 'dusseldorf': 166, 'bochum': 67, 'strasbourg': 253, 'lindau': 43, 'frankfurt': 193, 'erfurt': 74, 'zurich': 89, 'cologne': 95, 'hanover': 151, 'stuttgart': 134, 'darmstadt': 64, 'hamburg': 177, 'krefeld': 71, 'ulm': 58, 'jena': 90, 'aachen': 128, 'tubingen': 99, 'weimar': 97, 'monchengladbach': 69, 'munster': 126}\n"
     ]
    }
   ],
   "source": [
    "city_counts_train = {}\n",
    "\n",
    "for filename in train_images:\n",
    "    city = filename[:-30]\n",
    "    if city in city_counts_train:\n",
    "        city_counts_train[city] += 1\n",
    "    else:\n",
    "        city_counts_train[city] = 1\n",
    "\n",
    "print(city_counts_train)"
   ]
  },
  {
   "cell_type": "markdown",
   "metadata": {},
   "source": [
    "{'bremen': 231, 'dusseldorf': 166, 'bochum': 67, 'strasbourg': 253, 'lindau': 43, 'frankfurt': 193, 'erfurt': 74, 'zurich': 89, 'cologne': 95, 'hanover': 151, 'stuttgart': 134, 'darmstadt': 64, 'hamburg': 177, 'krefeld': 71, 'ulm': 58, 'jena': 90, 'aachen': 128, 'tubingen': 99, 'weimar': 97, 'monchengladbach': 69, 'munster': 126}m"
   ]
  },
  {
   "cell_type": "code",
   "execution_count": 155,
   "metadata": {},
   "outputs": [
    {
     "name": "stdout",
     "output_type": "stream",
     "text": [
      "{'bremen': 0.73, 'dusseldorf': 0.75, 'bochum': 0.7, 'strasbourg': 0.69, 'lindau': 0.73, 'frankfurt': 0.72, 'erfurt': 0.68, 'zurich': 0.73, 'cologne': 0.62, 'hanover': 0.77, 'stuttgart': 0.68, 'darmstadt': 0.75, 'hamburg': 0.71, 'krefeld': 0.72, 'ulm': 0.61, 'jena': 0.76, 'aachen': 0.74, 'tubingen': 0.69, 'weimar': 0.68, 'monchengladbach': 0.73, 'munster': 0.72}\n"
     ]
    }
   ],
   "source": [
    "city_perc_train = {}\n",
    "for city in city_counts_train.keys():\n",
    "    city_perc_train[city] = round(city_counts_train[city]/city_counts_all[city],2)\n",
    "    \n",
    "print(city_perc_train)"
   ]
  },
  {
   "cell_type": "markdown",
   "metadata": {},
   "source": [
    "{'bremen': 0.73, 'dusseldorf': 0.75, 'bochum': 0.7, 'strasbourg': 0.69, 'lindau': 0.73, 'frankfurt': 0.72, 'erfurt': 0.68, 'zurich': 0.73, 'cologne': 0.62, 'hanover': 0.77, 'stuttgart': 0.68, 'darmstadt': 0.75, 'hamburg': 0.71, 'krefeld': 0.72, 'ulm': 0.61, 'jena': 0.76, 'aachen': 0.74, 'tubingen': 0.69, 'weimar': 0.68, 'monchengladbach': 0.73, 'munster': 0.72}"
   ]
  },
  {
   "cell_type": "code",
   "execution_count": null,
   "metadata": {},
   "outputs": [],
   "source": [
    "# with open('train_images_v.pkl', 'wb') as f:\n",
    "#     pickle.dump(train_images, f)"
   ]
  },
  {
   "cell_type": "code",
   "execution_count": null,
   "metadata": {},
   "outputs": [],
   "source": [
    "with open('train_images.pkl', 'rb') as f:\n",
    "    saved_train_images = pickle.load(f)"
   ]
  },
  {
   "cell_type": "code",
   "execution_count": null,
   "metadata": {},
   "outputs": [],
   "source": [
    "len(saved_train_images)"
   ]
  }
 ],
 "metadata": {
  "colab": {
   "collapsed_sections": [],
   "name": "data_preprocessing_cityscapes.ipynb",
   "provenance": []
  },
  "kernelspec": {
   "display_name": "Python 3",
   "language": "python",
   "name": "python3"
  },
  "language_info": {
   "codemirror_mode": {
    "name": "ipython",
    "version": 3
   },
   "file_extension": ".py",
   "mimetype": "text/x-python",
   "name": "python",
   "nbconvert_exporter": "python",
   "pygments_lexer": "ipython3",
   "version": "3.8.6"
  }
 },
 "nbformat": 4,
 "nbformat_minor": 1
}
