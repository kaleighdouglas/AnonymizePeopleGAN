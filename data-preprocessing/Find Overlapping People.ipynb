{
 "cells": [
  {
   "cell_type": "markdown",
   "metadata": {},
   "source": [
    "## Iterate through training images and corresponding bbox files to create list of images where the target person overlaps with another person in the image."
   ]
  },
  {
   "cell_type": "code",
   "execution_count": 1,
   "metadata": {},
   "outputs": [],
   "source": [
    "import os\n",
    "import json\n",
    "import pickle\n",
    "import cv2\n",
    "import numpy as np\n",
    "import torch\n",
    "from itertools import combinations\n",
    "\n",
    "from PIL import Image\n",
    "from IPython.display import display\n",
    "\n",
    "IMAGE_COUNT = 0\n",
    "TRAIN = 0\n",
    "OVERLAP_TRAIN_IMGS = []\n"
   ]
  },
  {
   "cell_type": "code",
   "execution_count": 8,
   "metadata": {},
   "outputs": [],
   "source": [
    "## Load Training Dataset\n",
    "with open('train_images.pkl', 'rb') as f:\n",
    "    train_images = pickle.load(f)"
   ]
  },
  {
   "cell_type": "code",
   "execution_count": 9,
   "metadata": {},
   "outputs": [],
   "source": [
    "def process_image_directory(directory_input, iou_max=0.1):\n",
    "    global IMAGE_COUNT\n",
    "    global TRAIN\n",
    "    \n",
    "    images = os.listdir('images/'+directory_input)\n",
    "    if '.DS_Store' in images:\n",
    "        images.remove('.DS_Store')\n",
    "#     print(images)\n",
    "    IMAGE_COUNT += len(images)\n",
    "\n",
    "    for image_path in images:\n",
    "        ## Find only train images\n",
    "        if image_path in train_images:\n",
    "            TRAIN += 1\n",
    "        \n",
    "            ## Get Filename\n",
    "            filename = image_path[:-16]\n",
    "\n",
    "            ## Read Image\n",
    "            img = cv2.imread('images/'+directory_input+'/'+image_path)\n",
    "            assert img.shape == (1024, 2048, 3)\n",
    "\n",
    "            ## Display Image\n",
    "#             img_display = cv2.cvtColor(img, cv2.COLOR_BGR2RGB) # Converting BGR to RGB for display\n",
    "#             display(Image.fromarray(img_display))\n",
    "\n",
    "\n",
    "            ## Get Bounding Box Annotations\n",
    "            bbox_list = get_bbox_annotations(directory_input, filename)\n",
    "#             print(bbox_list)\n",
    "            \n",
    "            ## Find overlapping bbox annotations\n",
    "            overlap_list = find_overlap_single_image(bbox_list, iou_max)\n",
    "            \n",
    "            ## Get Filenames for images with overlapping bboxes\n",
    "            overlap_imgs = get_overlap_img_filenames(overlap_list, filename)\n",
    "            OVERLAP_TRAIN_IMGS.extend(overlap_imgs)\n",
    "            \n",
    "    return\n"
   ]
  },
  {
   "cell_type": "code",
   "execution_count": 10,
   "metadata": {},
   "outputs": [],
   "source": [
    "## Get Bounding Box Annotations\n",
    "def get_bbox_annotations(directory_input, filename):\n",
    "    bbox_file = 'bboxes/'+directory_input+'/'+filename+'_gtBboxCityPersons.json'\n",
    "#     print()\n",
    "    bbox_list = []\n",
    "    with open(bbox_file) as f:\n",
    "        data = json.load(f)\n",
    "        for obj in data['objects']:\n",
    "            if obj['label'] == 'pedestrian':\n",
    "#                 print(obj)\n",
    "                bbox_list.append(obj['bboxVis'])\n",
    "                \n",
    "    return bbox_list\n",
    "\n",
    "\n",
    "def find_overlap_single_image(bbox_list, iou_max=0.1):\n",
    "    skip = [] # list of ids for overlapping people\n",
    "    bbox_list_indices = list(range(len(bbox_list)))\n",
    "    bbox_list_combinations = list(combinations(bbox_list_indices, 2))\n",
    "\n",
    "    for pair in bbox_list_combinations:\n",
    "#         print(pair)\n",
    "        if pair[0] not in skip or pair[1] not in skip:\n",
    "            boxA = wh_to_xy(bbox_list[pair[0]])\n",
    "            boxB = wh_to_xy(bbox_list[pair[1]])\n",
    "            iou = calc_iou(boxA, boxB)\n",
    "\n",
    "            if iou >= iou_max:\n",
    "                skip.append(pair[0])\n",
    "                skip.append(pair[1])\n",
    "#                 print('skip list updated:', skip)\n",
    "\n",
    "    return sorted(list(set(skip)))\n",
    "\n",
    "\n",
    "\n",
    "def wh_to_xy(bbox):\n",
    "    return [bbox[0], bbox[1], bbox[0] + bbox[2], bbox[1] + bbox[3]]\n",
    "    \n",
    "    \n",
    "    \n",
    "def calc_iou(boxA, boxB):\n",
    "    \"\"\"citation: https://www.pyimagesearch.com/2016/11/07/intersection-over-union-iou-for-object-detection/\"\"\"\n",
    "    # determine the (x, y)-coordinates of the intersection rectangle\n",
    "    x0 = max(boxA[0], boxB[0])\n",
    "    y0 = max(boxA[1], boxB[1])\n",
    "    x1 = min(boxA[2], boxB[2])\n",
    "    y1 = min(boxA[3], boxB[3])\n",
    "    \n",
    "    # compute the area of intersection rectangle\n",
    "    interArea = max(0, x1 - x0 + 1) * max(0, y1 - y0 + 1)\n",
    "    \n",
    "    # compute the area of both the prediction and ground-truth rectangles\n",
    "    boxAArea = (boxA[2] - boxA[0] + 1) * (boxA[3] - boxA[1] + 1)\n",
    "    boxBArea = (boxB[2] - boxB[0] + 1) * (boxB[3] - boxB[1] + 1)\n",
    "    \n",
    "    # compute the intersection over union by taking the intersection\n",
    "    # area and dividing it by the sum of prediction + ground-truth\n",
    "    # areas - the interesection area\n",
    "    iou = interArea / float(boxAArea + boxBArea - interArea)\n",
    "    \n",
    "    # return the intersection over union value\n",
    "    return iou\n",
    "\n",
    "\n",
    "def get_overlap_img_filenames(overlap_list, filename):\n",
    "    overlap_imgs = []\n",
    "    for person_id in overlap_list:\n",
    "        ## Create filename for skipped cropped img\n",
    "        img_path = filename+'_'+str(person_id)\n",
    "        overlap_imgs.append(img_path)\n",
    "    return overlap_imgs\n",
    "    "
   ]
  },
  {
   "cell_type": "code",
   "execution_count": 11,
   "metadata": {},
   "outputs": [],
   "source": [
    "# bbox_list = process_image_directory('demo', 0.01)\n",
    "\n",
    "# OVERLAP_TRAIN_IMGS"
   ]
  },
  {
   "cell_type": "markdown",
   "metadata": {},
   "source": [
    "## Run all images"
   ]
  },
  {
   "cell_type": "code",
   "execution_count": 12,
   "metadata": {},
   "outputs": [
    {
     "name": "stdout",
     "output_type": "stream",
     "text": [
      "\n",
      "zurich\n",
      "\n",
      "strasbourg\n",
      "\n",
      "weimar\n",
      "\n",
      "munster\n",
      "\n",
      "aachen\n",
      "\n",
      "tubingen\n",
      "\n",
      "jena\n",
      "\n",
      "bochum\n",
      "\n",
      "darmstadt\n",
      "\n",
      "dusseldorf\n",
      "\n",
      "hamburg\n",
      "\n",
      "cologne\n",
      "\n",
      "lindau\n",
      "\n",
      "monchengladbach\n",
      "\n",
      "frankfurt\n",
      "\n",
      "krefeld\n",
      "\n",
      "ulm\n",
      "\n",
      "hanover\n",
      "\n",
      "stuttgart\n",
      "\n",
      "erfurt\n",
      "\n",
      "bremen\n",
      "\n",
      "------ COMPLETE ------\n",
      "Number of overlapping images: 5039\n",
      "\n",
      "IMAGE_COUNT 3475\n",
      "TRAIN 2475\n"
     ]
    }
   ],
   "source": [
    "IMAGE_COUNT = 0\n",
    "TRAIN = 0\n",
    "OVERLAP_TRAIN_IMGS = []\n",
    "\n",
    "ignore_directories = ['.DS_Store', 'demo', 'test']\n",
    "# ignore_directories = ['.DS_Store']\n",
    "\n",
    "## Process all images in 'images' directory unless subfolder is included in 'ignore_directories' list         \n",
    "for directory in os.listdir('images/'):\n",
    "    if directory not in ignore_directories:\n",
    "        print()\n",
    "        print(directory)\n",
    "        process_image_directory(directory, 0.1) #0.1 original\n",
    "        \n",
    "print()\n",
    "print('------ COMPLETE ------')\n",
    "print('Number of overlapping images:', len(OVERLAP_TRAIN_IMGS))\n",
    "print()\n",
    "print('IMAGE_COUNT', IMAGE_COUNT)\n",
    "print('TRAIN', TRAIN)"
   ]
  },
  {
   "cell_type": "markdown",
   "metadata": {},
   "source": [
    "### Save list of filenames of overlapping train images"
   ]
  },
  {
   "cell_type": "code",
   "execution_count": 13,
   "metadata": {},
   "outputs": [],
   "source": [
    "with open('overlap_train_images.pkl', 'wb') as f:\n",
    "    pickle.dump(OVERLAP_TRAIN_IMGS, f)"
   ]
  },
  {
   "cell_type": "code",
   "execution_count": 8,
   "metadata": {},
   "outputs": [],
   "source": [
    "with open('overlap_train_images.pkl', 'rb') as f:\n",
    "    saved_overlap_images = pickle.load(f)"
   ]
  },
  {
   "cell_type": "code",
   "execution_count": 9,
   "metadata": {},
   "outputs": [
    {
     "data": {
      "text/plain": [
       "['aachen_000065_000019_4', 'aachen_000065_000019_5']"
      ]
     },
     "execution_count": 9,
     "metadata": {},
     "output_type": "execute_result"
    }
   ],
   "source": [
    "saved_overlap_images"
   ]
  },
  {
   "cell_type": "markdown",
   "metadata": {},
   "source": [
    "---\n",
    "### Demo Example output\n",
    "\n",
    "['demo_train/aachen_000065_000019_4', 'demo_train/aachen_000065_000019_5']\n",
    "(4, 5)\n",
    "boxA [1211, 406, 1241, 484]\n",
    "boxB [1228, 405, 1262, 498]"
   ]
  }
 ],
 "metadata": {
  "kernelspec": {
   "display_name": "Python 3",
   "language": "python",
   "name": "python3"
  },
  "language_info": {
   "codemirror_mode": {
    "name": "ipython",
    "version": 3
   },
   "file_extension": ".py",
   "mimetype": "text/x-python",
   "name": "python",
   "nbconvert_exporter": "python",
   "pygments_lexer": "ipython3",
   "version": "3.6.5"
  }
 },
 "nbformat": 4,
 "nbformat_minor": 5
}
