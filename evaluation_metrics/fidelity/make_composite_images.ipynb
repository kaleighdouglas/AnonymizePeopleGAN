{
 "cells": [
  {
   "cell_type": "code",
   "execution_count": 6,
   "id": "cubic-hammer",
   "metadata": {},
   "outputs": [],
   "source": [
    "import os\n",
    "from glob import glob\n",
    "import json\n",
    "import cv2\n",
    "\n",
    "from PIL import Image\n",
    "from IPython.display import display"
   ]
  },
  {
   "cell_type": "code",
   "execution_count": 27,
   "id": "frank-quebec",
   "metadata": {},
   "outputs": [],
   "source": [
    "SEED = 22\n",
    "DATASET = 'val'\n",
    "\n",
    "## Load Original Dataset\n",
    "original_data = 'datasets_1200_w40_final/images/'+DATASET\n",
    "\n",
    "## Load BBOX Dataset\n",
    "bbox_data = 'datasets_1200_w40_final/bbox/'+DATASET\n",
    "\n",
    "\n",
    "## Load Generated Dataset\n",
    "generated_data = 'pix2pix/seed_'+str(SEED)+'/'+DATASET\n",
    "\n",
    "\n",
    "# Save Display/Composite Images\n",
    "composite_data = 'pix2pix/seed_'+str(SEED)+'/'+DATASET+'_display/'"
   ]
  },
  {
   "cell_type": "code",
   "execution_count": 28,
   "id": "recognized-modeling",
   "metadata": {},
   "outputs": [
    {
     "name": "stdout",
     "output_type": "stream",
     "text": [
      "120\n",
      "datasets_1200_w40_final/images/val/aachen_000006_000019_2.png\n",
      "120\n",
      "datasets_1200_w40_final/bbox/val/aachen_000006_000019_2.json\n",
      "120\n",
      "pix2pix/seed_22/val/aachen_000006_000019_2.png\n"
     ]
    }
   ],
   "source": [
    "## LOAD DATA\n",
    "\n",
    "original_images = sorted(glob(os.path.join(original_data, '*.png'), recursive=False))\n",
    "print(len(original_images))\n",
    "print(original_images[0])\n",
    "\n",
    "bbox_files = sorted(glob(os.path.join(bbox_data, '*.json'), recursive=False))\n",
    "print(len(bbox_files))  \n",
    "print(bbox_files[0])\n",
    "\n",
    "generated_images = sorted(glob(os.path.join(generated_data, '*.png'), recursive=False))    \n",
    "print(len(generated_images))\n",
    "print(generated_images[0])"
   ]
  },
  {
   "cell_type": "code",
   "execution_count": 29,
   "id": "enhanced-quarterly",
   "metadata": {},
   "outputs": [],
   "source": [
    "SPLIT_WIDTH = 256"
   ]
  },
  {
   "cell_type": "code",
   "execution_count": 30,
   "id": "ignored-television",
   "metadata": {},
   "outputs": [],
   "source": [
    "for img_path in generated_images:\n",
    "    img_name = os.path.basename(img_path).split('.')[0]\n",
    "#   print(img_name)\n",
    "\n",
    "    # Load generated image\n",
    "    gen_img = cv2.imread(img_path)\n",
    "#     print(gen_img.shape)\n",
    "#     display(Image.fromarray(gen_img))\n",
    "    \n",
    "    # Load original image \n",
    "    orig_img = cv2.imread(original_data + '/' + img_name + '.png')\n",
    "#     print(orig_img.shape)  #(height, width, depth)\n",
    "#     display(Image.fromarray(orig_img))\n",
    "\n",
    "    # Load bbox data  # Example: {'x1': 98, 'y1': 54, 'x2': 160, 'y2': 204}\n",
    "    bbox = json.load(open(bbox_data + '/' + img_name + '.json'))\n",
    "#     print(bbox)\n",
    "    \n",
    "    composite_img = orig_img[:,0:SPLIT_WIDTH,:]\n",
    "    composite_img[bbox['y1']:bbox['y2'], bbox['x1']:bbox['x2'], :] = gen_img[bbox['y1']:bbox['y2'], bbox['x1']:bbox['x2'], :]\n",
    "#     display(Image.fromarray(composite_img))\n",
    "    \n",
    "    cv2.imwrite(composite_data + img_name +'_fake_B_display.png', composite_img)\n",
    "    \n",
    "\n"
   ]
  },
  {
   "cell_type": "code",
   "execution_count": null,
   "id": "creative-grace",
   "metadata": {},
   "outputs": [],
   "source": []
  },
  {
   "cell_type": "code",
   "execution_count": null,
   "id": "vocational-saturday",
   "metadata": {},
   "outputs": [],
   "source": []
  }
 ],
 "metadata": {
  "kernelspec": {
   "display_name": "Python 3",
   "language": "python",
   "name": "python3"
  },
  "language_info": {
   "codemirror_mode": {
    "name": "ipython",
    "version": 3
   },
   "file_extension": ".py",
   "mimetype": "text/x-python",
   "name": "python",
   "nbconvert_exporter": "python",
   "pygments_lexer": "ipython3",
   "version": "3.8.6"
  }
 },
 "nbformat": 4,
 "nbformat_minor": 5
}
